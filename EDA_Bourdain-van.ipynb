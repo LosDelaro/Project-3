{
 "cells": [
  {
   "cell_type": "code",
   "execution_count": 1,
   "id": "4a4c7f82",
   "metadata": {},
   "outputs": [],
   "source": [
    "#Import dependencies\n",
    "import pandas as pd \n",
    "import matplotlib.pyplot as plt\n",
    "from sqlalchemy import create_engine, text, inspect\n",
    "import json"
   ]
  },
  {
   "cell_type": "code",
   "execution_count": 2,
   "id": "787a75a8",
   "metadata": {
    "scrolled": true
   },
   "outputs": [
    {
     "data": {
      "text/html": [
       "<div>\n",
       "<style scoped>\n",
       "    .dataframe tbody tr th:only-of-type {\n",
       "        vertical-align: middle;\n",
       "    }\n",
       "\n",
       "    .dataframe tbody tr th {\n",
       "        vertical-align: top;\n",
       "    }\n",
       "\n",
       "    .dataframe thead th {\n",
       "        text-align: right;\n",
       "    }\n",
       "</style>\n",
       "<table border=\"1\" class=\"dataframe\">\n",
       "  <thead>\n",
       "    <tr style=\"text-align: right;\">\n",
       "      <th></th>\n",
       "      <th>Air Date</th>\n",
       "      <th>Airdate</th>\n",
       "      <th>City</th>\n",
       "      <th>Country</th>\n",
       "      <th>Day</th>\n",
       "      <th>Description</th>\n",
       "      <th>Episode</th>\n",
       "      <th>Latitude</th>\n",
       "      <th>Longitude</th>\n",
       "      <th>Month1</th>\n",
       "      <th>Month</th>\n",
       "      <th>Number of Records</th>\n",
       "      <th>Order</th>\n",
       "      <th>Region</th>\n",
       "      <th>Season</th>\n",
       "      <th>Show</th>\n",
       "      <th>Source</th>\n",
       "      <th>State</th>\n",
       "      <th>Title</th>\n",
       "      <th>Year</th>\n",
       "    </tr>\n",
       "  </thead>\n",
       "  <tbody>\n",
       "    <tr>\n",
       "      <th>0</th>\n",
       "      <td>1/8/2002</td>\n",
       "      <td>January 8, 2002</td>\n",
       "      <td>Tokyo</td>\n",
       "      <td>Japan</td>\n",
       "      <td>8</td>\n",
       "      <td>Join Tony in Tokyo as he learns about the Japa...</td>\n",
       "      <td>1</td>\n",
       "      <td>35.689487</td>\n",
       "      <td>139.691706</td>\n",
       "      <td>1</td>\n",
       "      <td>January</td>\n",
       "      <td>1</td>\n",
       "      <td>1</td>\n",
       "      <td>Asia</td>\n",
       "      <td>1</td>\n",
       "      <td>A Cook's Tour</td>\n",
       "      <td>https://www.cookingchanneltv.com/shows/a-cooks...</td>\n",
       "      <td>NaN</td>\n",
       "      <td>A Taste of Tokyo</td>\n",
       "      <td>2002</td>\n",
       "    </tr>\n",
       "    <tr>\n",
       "      <th>1</th>\n",
       "      <td>1/12/2002</td>\n",
       "      <td>January 12, 2002</td>\n",
       "      <td>Atami</td>\n",
       "      <td>Japan</td>\n",
       "      <td>12</td>\n",
       "      <td>Rural Japan: Tony decides to look for a more r...</td>\n",
       "      <td>2</td>\n",
       "      <td>35.096276</td>\n",
       "      <td>139.071705</td>\n",
       "      <td>1</td>\n",
       "      <td>January</td>\n",
       "      <td>1</td>\n",
       "      <td>2</td>\n",
       "      <td>Asia</td>\n",
       "      <td>1</td>\n",
       "      <td>A Cook's Tour</td>\n",
       "      <td>https://www.cookingchanneltv.com/shows/a-cooks...</td>\n",
       "      <td>NaN</td>\n",
       "      <td>Dining with Geishas</td>\n",
       "      <td>2002</td>\n",
       "    </tr>\n",
       "    <tr>\n",
       "      <th>2</th>\n",
       "      <td>1/15/2002</td>\n",
       "      <td>January 15, 2002</td>\n",
       "      <td>Ho Chi Minh City</td>\n",
       "      <td>Vietnam</td>\n",
       "      <td>15</td>\n",
       "      <td>Travel with Tony Bourdain to Ho Chi Minh City ...</td>\n",
       "      <td>3</td>\n",
       "      <td>10.823099</td>\n",
       "      <td>106.629664</td>\n",
       "      <td>1</td>\n",
       "      <td>January</td>\n",
       "      <td>1</td>\n",
       "      <td>3</td>\n",
       "      <td>Asia</td>\n",
       "      <td>1</td>\n",
       "      <td>A Cook's Tour</td>\n",
       "      <td>https://www.cookingchanneltv.com/shows/a-cooks...</td>\n",
       "      <td>NaN</td>\n",
       "      <td>Cobra Heart - Foods That Make You Manly</td>\n",
       "      <td>2002</td>\n",
       "    </tr>\n",
       "    <tr>\n",
       "      <th>3</th>\n",
       "      <td>1/15/2002</td>\n",
       "      <td>January 15, 2002</td>\n",
       "      <td>Mekong River</td>\n",
       "      <td>Vietnam</td>\n",
       "      <td>15</td>\n",
       "      <td>On the river, Tony drinks a lot of Mekong moon...</td>\n",
       "      <td>4</td>\n",
       "      <td>15.933589</td>\n",
       "      <td>103.449284</td>\n",
       "      <td>1</td>\n",
       "      <td>January</td>\n",
       "      <td>1</td>\n",
       "      <td>4</td>\n",
       "      <td>Asia</td>\n",
       "      <td>1</td>\n",
       "      <td>A Cook's Tour</td>\n",
       "      <td>https://www.cookingchanneltv.com/shows/a-cooks...</td>\n",
       "      <td>NaN</td>\n",
       "      <td>Eating on the Mekong</td>\n",
       "      <td>2002</td>\n",
       "    </tr>\n",
       "    <tr>\n",
       "      <th>4</th>\n",
       "      <td>1/22/2002</td>\n",
       "      <td>January 22, 2002</td>\n",
       "      <td>Phnom Penh</td>\n",
       "      <td>Cambodia</td>\n",
       "      <td>22</td>\n",
       "      <td>With a friend along for the ride, Tony travels...</td>\n",
       "      <td>5</td>\n",
       "      <td>11.556374</td>\n",
       "      <td>104.928210</td>\n",
       "      <td>1</td>\n",
       "      <td>January</td>\n",
       "      <td>1</td>\n",
       "      <td>5</td>\n",
       "      <td>Asia</td>\n",
       "      <td>1</td>\n",
       "      <td>A Cook's Tour</td>\n",
       "      <td>https://www.cookingchanneltv.com/shows/a-cooks...</td>\n",
       "      <td>NaN</td>\n",
       "      <td>Wild Delicacies</td>\n",
       "      <td>2002</td>\n",
       "    </tr>\n",
       "  </tbody>\n",
       "</table>\n",
       "</div>"
      ],
      "text/plain": [
       "    Air Date           Airdate              City   Country  Day  \\\n",
       "0   1/8/2002   January 8, 2002             Tokyo     Japan    8   \n",
       "1  1/12/2002  January 12, 2002             Atami     Japan   12   \n",
       "2  1/15/2002  January 15, 2002  Ho Chi Minh City   Vietnam   15   \n",
       "3  1/15/2002  January 15, 2002      Mekong River   Vietnam   15   \n",
       "4  1/22/2002  January 22, 2002        Phnom Penh  Cambodia   22   \n",
       "\n",
       "                                         Description  Episode   Latitude  \\\n",
       "0  Join Tony in Tokyo as he learns about the Japa...        1  35.689487   \n",
       "1  Rural Japan: Tony decides to look for a more r...        2  35.096276   \n",
       "2  Travel with Tony Bourdain to Ho Chi Minh City ...        3  10.823099   \n",
       "3  On the river, Tony drinks a lot of Mekong moon...        4  15.933589   \n",
       "4  With a friend along for the ride, Tony travels...        5  11.556374   \n",
       "\n",
       "    Longitude  Month1    Month  Number of Records  Order Region  Season  \\\n",
       "0  139.691706       1  January                  1      1   Asia       1   \n",
       "1  139.071705       1  January                  1      2   Asia       1   \n",
       "2  106.629664       1  January                  1      3   Asia       1   \n",
       "3  103.449284       1  January                  1      4   Asia       1   \n",
       "4  104.928210       1  January                  1      5   Asia       1   \n",
       "\n",
       "            Show                                             Source State  \\\n",
       "0  A Cook's Tour  https://www.cookingchanneltv.com/shows/a-cooks...   NaN   \n",
       "1  A Cook's Tour  https://www.cookingchanneltv.com/shows/a-cooks...   NaN   \n",
       "2  A Cook's Tour  https://www.cookingchanneltv.com/shows/a-cooks...   NaN   \n",
       "3  A Cook's Tour  https://www.cookingchanneltv.com/shows/a-cooks...   NaN   \n",
       "4  A Cook's Tour  https://www.cookingchanneltv.com/shows/a-cooks...   NaN   \n",
       "\n",
       "                                     Title  Year  \n",
       "0                         A Taste of Tokyo  2002  \n",
       "1                      Dining with Geishas  2002  \n",
       "2  Cobra Heart - Foods That Make You Manly  2002  \n",
       "3                     Eating on the Mekong  2002  \n",
       "4                          Wild Delicacies  2002  "
      ]
     },
     "execution_count": 2,
     "metadata": {},
     "output_type": "execute_result"
    }
   ],
   "source": [
    "# Read in the csv\n",
    "filepath = \"data/Map_data.csv\"\n",
    "df = pd.read_csv(filepath)\n",
    "df.head()"
   ]
  },
  {
   "cell_type": "code",
   "execution_count": 3,
   "id": "c8be051d",
   "metadata": {},
   "outputs": [
    {
     "name": "stdout",
     "output_type": "stream",
     "text": [
      "<class 'pandas.core.frame.DataFrame'>\n",
      "RangeIndex: 495 entries, 0 to 494\n",
      "Data columns (total 20 columns):\n",
      " #   Column             Non-Null Count  Dtype  \n",
      "---  ------             --------------  -----  \n",
      " 0   Air Date           495 non-null    object \n",
      " 1   Airdate            495 non-null    object \n",
      " 2   City               495 non-null    object \n",
      " 3   Country            495 non-null    object \n",
      " 4   Day                495 non-null    int64  \n",
      " 5   Description        495 non-null    object \n",
      " 6   Episode            495 non-null    int64  \n",
      " 7   Latitude           495 non-null    float64\n",
      " 8   Longitude          495 non-null    float64\n",
      " 9   Month1             495 non-null    int64  \n",
      " 10  Month              495 non-null    object \n",
      " 11  Number of Records  495 non-null    int64  \n",
      " 12  Order              495 non-null    int64  \n",
      " 13  Region             495 non-null    object \n",
      " 14  Season             495 non-null    int64  \n",
      " 15  Show               495 non-null    object \n",
      " 16  Source             495 non-null    object \n",
      " 17  State              140 non-null    object \n",
      " 18  Title              495 non-null    object \n",
      " 19  Year               495 non-null    int64  \n",
      "dtypes: float64(2), int64(7), object(11)\n",
      "memory usage: 77.5+ KB\n"
     ]
    }
   ],
   "source": [
    "# Take a look at the data types\n",
    "df.info()"
   ]
  },
  {
   "cell_type": "code",
   "execution_count": 4,
   "id": "4d2617b8",
   "metadata": {},
   "outputs": [
    {
     "name": "stdout",
     "output_type": "stream",
     "text": [
      "<class 'pandas.core.frame.DataFrame'>\n",
      "RangeIndex: 495 entries, 0 to 494\n",
      "Data columns (total 16 columns):\n",
      " #   Column     Non-Null Count  Dtype  \n",
      "---  ------     --------------  -----  \n",
      " 0   Air Date   495 non-null    object \n",
      " 1   City       495 non-null    object \n",
      " 2   Country    495 non-null    object \n",
      " 3   Day        495 non-null    int64  \n",
      " 4   Episode    495 non-null    int64  \n",
      " 5   Latitude   495 non-null    float64\n",
      " 6   Longitude  495 non-null    float64\n",
      " 7   Month1     495 non-null    int64  \n",
      " 8   Month      495 non-null    object \n",
      " 9   Order      495 non-null    int64  \n",
      " 10  Region     495 non-null    object \n",
      " 11  Season     495 non-null    int64  \n",
      " 12  Show       495 non-null    object \n",
      " 13  State      140 non-null    object \n",
      " 14  Title      495 non-null    object \n",
      " 15  Year       495 non-null    int64  \n",
      "dtypes: float64(2), int64(6), object(8)\n",
      "memory usage: 62.0+ KB\n"
     ]
    }
   ],
   "source": [
    "# Delete unnecessary columns\n",
    "df = df.drop(columns=['Airdate', 'Description', 'Source', 'Number of Records'])\n",
    "df.info()"
   ]
  },
  {
   "cell_type": "code",
   "execution_count": 5,
   "id": "b4c0b5ca",
   "metadata": {},
   "outputs": [
    {
     "name": "stdout",
     "output_type": "stream",
     "text": [
      "<class 'pandas.core.frame.DataFrame'>\n",
      "RangeIndex: 495 entries, 0 to 494\n",
      "Data columns (total 16 columns):\n",
      " #   Column     Non-Null Count  Dtype         \n",
      "---  ------     --------------  -----         \n",
      " 0   Air Date   495 non-null    datetime64[ns]\n",
      " 1   City       495 non-null    object        \n",
      " 2   Country    495 non-null    object        \n",
      " 3   Day        495 non-null    int64         \n",
      " 4   Episode    495 non-null    int64         \n",
      " 5   Latitude   495 non-null    float64       \n",
      " 6   Longitude  495 non-null    float64       \n",
      " 7   Month1     495 non-null    int64         \n",
      " 8   Month      495 non-null    object        \n",
      " 9   Order      495 non-null    int64         \n",
      " 10  Region     495 non-null    object        \n",
      " 11  Season     495 non-null    int64         \n",
      " 12  Show       495 non-null    object        \n",
      " 13  State      140 non-null    object        \n",
      " 14  Title      495 non-null    object        \n",
      " 15  Year       495 non-null    int64         \n",
      "dtypes: datetime64[ns](1), float64(2), int64(6), object(7)\n",
      "memory usage: 62.0+ KB\n"
     ]
    }
   ],
   "source": [
    "# Convert Air Date column to datetime format\n",
    "df['Air Date'] = pd.to_datetime(df['Air Date'])\n",
    "df.info()"
   ]
  },
  {
   "cell_type": "code",
   "execution_count": 6,
   "id": "85bb2aa4",
   "metadata": {},
   "outputs": [
    {
     "name": "stdout",
     "output_type": "stream",
     "text": [
      "<class 'pandas.core.frame.DataFrame'>\n",
      "RangeIndex: 495 entries, 0 to 494\n",
      "Data columns (total 16 columns):\n",
      " #   Column     Non-Null Count  Dtype         \n",
      "---  ------     --------------  -----         \n",
      " 0   Air_Date   495 non-null    datetime64[ns]\n",
      " 1   City       495 non-null    object        \n",
      " 2   Country    495 non-null    object        \n",
      " 3   Day        495 non-null    int64         \n",
      " 4   Episode    495 non-null    int64         \n",
      " 5   Latitude   495 non-null    float64       \n",
      " 6   Longitude  495 non-null    float64       \n",
      " 7   Month1     495 non-null    int64         \n",
      " 8   Month      495 non-null    object        \n",
      " 9   Order      495 non-null    int64         \n",
      " 10  Region     495 non-null    object        \n",
      " 11  Season     495 non-null    int64         \n",
      " 12  Show       495 non-null    object        \n",
      " 13  State      140 non-null    object        \n",
      " 14  Title      495 non-null    object        \n",
      " 15  Year       495 non-null    int64         \n",
      "dtypes: datetime64[ns](1), float64(2), int64(6), object(7)\n",
      "memory usage: 62.0+ KB\n"
     ]
    }
   ],
   "source": [
    "# Rename columns with spaces\n",
    "df = df.rename(columns={\"Air Date\": \"Air_Date\"})\n",
    "df.info()"
   ]
  },
  {
   "cell_type": "code",
   "execution_count": 7,
   "id": "bba73971",
   "metadata": {},
   "outputs": [
    {
     "data": {
      "text/plain": [
       "495"
      ]
     },
     "execution_count": 7,
     "metadata": {},
     "output_type": "execute_result"
    }
   ],
   "source": [
    "# Send to sqlite\n",
    "path = \"sqlite:///Map_data.sqlite\"\n",
    "engine = create_engine(path)\n",
    "df.to_sql(\"Map_data\", con=engine, method=\"multi\", if_exists=\"replace\", index=False)"
   ]
  },
  {
   "cell_type": "code",
   "execution_count": 8,
   "id": "a8d13c34",
   "metadata": {},
   "outputs": [],
   "source": [
    "# Create json data\n",
    "data = df.to_json(orient=\"records\")\n",
    "with open (\"data.json\", \"w\") as f:\n",
    "    f.write(data)"
   ]
  },
  {
   "cell_type": "code",
   "execution_count": 9,
   "id": "e8edbece",
   "metadata": {},
   "outputs": [
    {
     "data": {
      "text/plain": [
       "No Reservations    275\n",
       "Parts Unknown      158\n",
       "A Cook's Tour       42\n",
       "The Layover         20\n",
       "Name: Show, dtype: int64"
      ]
     },
     "execution_count": 9,
     "metadata": {},
     "output_type": "execute_result"
    }
   ],
   "source": [
    "# Create a variable for the count of each show\n",
    "show_count = df.Show.value_counts()\n",
    "show_count"
   ]
  },
  {
   "cell_type": "code",
   "execution_count": 10,
   "id": "393a7013",
   "metadata": {},
   "outputs": [
    {
     "data": {
      "image/png": "[encoded data removed]",
      "text/plain": [
       "<Figure size 1000x600 with 1 Axes>"
      ]
     },
     "metadata": {},
     "output_type": "display_data"
    }
   ],
   "source": [
    "# What was Anthony Bourdain’s top show (longest running, and most episodes)?\n",
    "plt.figure(figsize=(10,6))\n",
    "plt.pie(show_count, labels=show_count.index,\n",
    "        autopct=\"%1.1f%%\", pctdistance=0.85, shadow=False, startangle=20)\n",
    "\n",
    "# Draw circle\n",
    "centre_circle = plt.Circle((0, 0), 0.60, fc='white')\n",
    "fig = plt.gcf()\n",
    " \n",
    "# Adding Circle in Pie chart\n",
    "fig.gca().add_artist(centre_circle)\n",
    "\n",
    "plt.title(\"Anthony Bourdain Shows\\n\", fontweight=\"bold\")\n",
    "plt.axis(\"equal\")\n",
    "\n",
    "plt.show()"
   ]
  },
  {
   "cell_type": "code",
   "execution_count": 11,
   "id": "a2668e84",
   "metadata": {},
   "outputs": [
    {
     "data": {
      "text/plain": [
       "North America      159\n",
       "Asia                94\n",
       "Europe              94\n",
       "South America       42\n",
       "Africa              32\n",
       "Central America     32\n",
       "Middle East         24\n",
       "Oceania             14\n",
       "Antarctica           4\n",
       "Name: Region, dtype: int64"
      ]
     },
     "execution_count": 11,
     "metadata": {},
     "output_type": "execute_result"
    }
   ],
   "source": [
    "# Create a variable for the count of each region\n",
    "region_count = df.Region.value_counts()\n",
    "region_count"
   ]
  },
  {
   "cell_type": "code",
   "execution_count": 12,
   "id": "bc28bf09",
   "metadata": {},
   "outputs": [
    {
     "data": {
      "text/html": [
       "<div>\n",
       "<style scoped>\n",
       "    .dataframe tbody tr th:only-of-type {\n",
       "        vertical-align: middle;\n",
       "    }\n",
       "\n",
       "    .dataframe tbody tr th {\n",
       "        vertical-align: top;\n",
       "    }\n",
       "\n",
       "    .dataframe thead th {\n",
       "        text-align: right;\n",
       "    }\n",
       "</style>\n",
       "<table border=\"1\" class=\"dataframe\">\n",
       "  <thead>\n",
       "    <tr style=\"text-align: right;\">\n",
       "      <th></th>\n",
       "      <th>Region</th>\n",
       "      <th>No_of_Visits</th>\n",
       "    </tr>\n",
       "  </thead>\n",
       "  <tbody>\n",
       "    <tr>\n",
       "      <th>0</th>\n",
       "      <td>North America</td>\n",
       "      <td>159</td>\n",
       "    </tr>\n",
       "    <tr>\n",
       "      <th>1</th>\n",
       "      <td>Asia</td>\n",
       "      <td>94</td>\n",
       "    </tr>\n",
       "    <tr>\n",
       "      <th>2</th>\n",
       "      <td>Europe</td>\n",
       "      <td>94</td>\n",
       "    </tr>\n",
       "    <tr>\n",
       "      <th>3</th>\n",
       "      <td>South America</td>\n",
       "      <td>42</td>\n",
       "    </tr>\n",
       "    <tr>\n",
       "      <th>4</th>\n",
       "      <td>Africa</td>\n",
       "      <td>32</td>\n",
       "    </tr>\n",
       "    <tr>\n",
       "      <th>5</th>\n",
       "      <td>Central America</td>\n",
       "      <td>32</td>\n",
       "    </tr>\n",
       "    <tr>\n",
       "      <th>6</th>\n",
       "      <td>Middle East</td>\n",
       "      <td>24</td>\n",
       "    </tr>\n",
       "    <tr>\n",
       "      <th>7</th>\n",
       "      <td>Oceania</td>\n",
       "      <td>14</td>\n",
       "    </tr>\n",
       "    <tr>\n",
       "      <th>8</th>\n",
       "      <td>Antarctica</td>\n",
       "      <td>4</td>\n",
       "    </tr>\n",
       "  </tbody>\n",
       "</table>\n",
       "</div>"
      ],
      "text/plain": [
       "            Region  No_of_Visits\n",
       "0    North America           159\n",
       "1             Asia            94\n",
       "2           Europe            94\n",
       "3    South America            42\n",
       "4           Africa            32\n",
       "5  Central America            32\n",
       "6      Middle East            24\n",
       "7          Oceania            14\n",
       "8       Antarctica             4"
      ]
     },
     "execution_count": 12,
     "metadata": {},
     "output_type": "execute_result"
    }
   ],
   "source": [
    "# Create a regional dataframe\n",
    "df_region = df.value_counts(\"Region\").reset_index()\n",
    "df_region.columns = [\"Region\", \"No_of_Visits\"]\n",
    "df_region = df_region.sort_values(by=\"No_of_Visits\", ascending=False)\n",
    "df_region"
   ]
  },
  {
   "cell_type": "code",
   "execution_count": 13,
   "id": "48c19ce7",
   "metadata": {},
   "outputs": [
    {
     "data": {
      "image/png": "[encoded data removed]",
      "text/plain": [
       "<Figure size 1200x800 with 1 Axes>"
      ]
     },
     "metadata": {},
     "output_type": "display_data"
    }
   ],
   "source": [
    "# Do we see any trends in general area or country frequency, and are those trends aligned across shows?\n",
    "\n",
    "# Region\n",
    "plt.figure(figsize=(12,8))\n",
    "plt.bar(df_region.Region, df_region.No_of_Visits, color=\"#606c38\")\n",
    "\n",
    "# customize\n",
    "plt.title(\"Regional Frequency\", fontsize=14, fontweight=\"bold\")\n",
    "plt.xlabel(\"Region\")\n",
    "plt.ylabel(\"Number of Visits\")\n",
    "\n",
    "# plt.ylim(0, 100)\n",
    "\n",
    "plt.grid(axis=\"y\", c=\"lightgray\", linestyle=\"dashed\", alpha=0.4)\n",
    "\n",
    "# Finish the plot\n",
    "plt.show()"
   ]
  },
  {
   "cell_type": "code",
   "execution_count": 14,
   "id": "f63e26e7",
   "metadata": {},
   "outputs": [
    {
     "data": {
      "text/plain": [
       "United States    141\n",
       "France            21\n",
       "Italy             20\n",
       "Japan             16\n",
       "China             15\n",
       "                ... \n",
       "Haiti              1\n",
       "Sweden             1\n",
       "Finland            1\n",
       "Austria            1\n",
       "Taiwan             1\n",
       "Name: Country, Length: 86, dtype: int64"
      ]
     },
     "execution_count": 14,
     "metadata": {},
     "output_type": "execute_result"
    }
   ],
   "source": [
    "# Create a variable for the count of each country\n",
    "country_count = df.Country.value_counts()\n",
    "country_count"
   ]
  },
  {
   "cell_type": "code",
   "execution_count": 15,
   "id": "27afe653",
   "metadata": {},
   "outputs": [
    {
     "data": {
      "text/html": [
       "<div>\n",
       "<style scoped>\n",
       "    .dataframe tbody tr th:only-of-type {\n",
       "        vertical-align: middle;\n",
       "    }\n",
       "\n",
       "    .dataframe tbody tr th {\n",
       "        vertical-align: top;\n",
       "    }\n",
       "\n",
       "    .dataframe thead th {\n",
       "        text-align: right;\n",
       "    }\n",
       "</style>\n",
       "<table border=\"1\" class=\"dataframe\">\n",
       "  <thead>\n",
       "    <tr style=\"text-align: right;\">\n",
       "      <th></th>\n",
       "      <th>Country</th>\n",
       "      <th>No_of_Visits</th>\n",
       "    </tr>\n",
       "  </thead>\n",
       "  <tbody>\n",
       "    <tr>\n",
       "      <th>0</th>\n",
       "      <td>United States</td>\n",
       "      <td>141</td>\n",
       "    </tr>\n",
       "    <tr>\n",
       "      <th>1</th>\n",
       "      <td>France</td>\n",
       "      <td>21</td>\n",
       "    </tr>\n",
       "    <tr>\n",
       "      <th>2</th>\n",
       "      <td>Italy</td>\n",
       "      <td>20</td>\n",
       "    </tr>\n",
       "    <tr>\n",
       "      <th>3</th>\n",
       "      <td>Japan</td>\n",
       "      <td>16</td>\n",
       "    </tr>\n",
       "    <tr>\n",
       "      <th>4</th>\n",
       "      <td>China</td>\n",
       "      <td>15</td>\n",
       "    </tr>\n",
       "    <tr>\n",
       "      <th>...</th>\n",
       "      <td>...</td>\n",
       "      <td>...</td>\n",
       "    </tr>\n",
       "    <tr>\n",
       "      <th>66</th>\n",
       "      <td>United Arab Emirates</td>\n",
       "      <td>1</td>\n",
       "    </tr>\n",
       "    <tr>\n",
       "      <th>65</th>\n",
       "      <td>Armenia</td>\n",
       "      <td>1</td>\n",
       "    </tr>\n",
       "    <tr>\n",
       "      <th>64</th>\n",
       "      <td>Trinidad and Tobago</td>\n",
       "      <td>1</td>\n",
       "    </tr>\n",
       "    <tr>\n",
       "      <th>63</th>\n",
       "      <td>Sweden</td>\n",
       "      <td>1</td>\n",
       "    </tr>\n",
       "    <tr>\n",
       "      <th>85</th>\n",
       "      <td>Madagascar</td>\n",
       "      <td>1</td>\n",
       "    </tr>\n",
       "  </tbody>\n",
       "</table>\n",
       "<p>86 rows × 2 columns</p>\n",
       "</div>"
      ],
      "text/plain": [
       "                 Country  No_of_Visits\n",
       "0          United States           141\n",
       "1                 France            21\n",
       "2                  Italy            20\n",
       "3                  Japan            16\n",
       "4                  China            15\n",
       "..                   ...           ...\n",
       "66  United Arab Emirates             1\n",
       "65               Armenia             1\n",
       "64   Trinidad and Tobago             1\n",
       "63                Sweden             1\n",
       "85            Madagascar             1\n",
       "\n",
       "[86 rows x 2 columns]"
      ]
     },
     "execution_count": 15,
     "metadata": {},
     "output_type": "execute_result"
    }
   ],
   "source": [
    "# Create a country dataframe\n",
    "df_country = df.value_counts(\"Country\").reset_index()\n",
    "df_country.columns = [\"Country\", \"No_of_Visits\"]\n",
    "df_country = df_country.sort_values(by=\"No_of_Visits\", ascending=False)\n",
    "df_country"
   ]
  },
  {
   "cell_type": "code",
   "execution_count": 16,
   "id": "e4dceb76",
   "metadata": {},
   "outputs": [
    {
     "data": {
      "image/png": "[encoded data removed]",
      "text/plain": [
       "<Figure size 1200x800 with 1 Axes>"
      ]
     },
     "metadata": {},
     "output_type": "display_data"
    }
   ],
   "source": [
    "# Country\n",
    "plt.figure(figsize=(12,8))\n",
    "plt.bar(df_country.Country, df_country.No_of_Visits, color=\"#73523e\")\n",
    "\n",
    "# customize\n",
    "plt.title(\"Country Frequency\", fontsize=14, fontweight=\"bold\")\n",
    "plt.xlabel(\"Country\")\n",
    "plt.ylabel(\"Number of Visits\")\n",
    "\n",
    "# plt.ylim(0, 100)\n",
    "\n",
    "plt.grid(axis=\"y\", c=\"lightgray\", linestyle=\"dashed\", alpha=0.4)\n",
    "\n",
    "# Finish the plot\n",
    "plt.show()"
   ]
  },
  {
   "cell_type": "code",
   "execution_count": 17,
   "id": "19031905",
   "metadata": {},
   "outputs": [],
   "source": [
    "from math import radians, degrees, sin, cos, asin, acos, sqrt\n",
    "def great_circle(lon1, lat1, lon2, lat2):\n",
    "    lon1, lat1, lon2, lat2 = map(radians, [lon1, lat1, lon2, lat2])\n",
    "    return 6371 * (\n",
    "        acos(sin(lat1) * sin(lat2) + cos(lat1) * cos(lat2) * cos(lon1 - lon2))\n",
    "    )"
   ]
  },
  {
   "cell_type": "code",
   "execution_count": 20,
   "id": "3556e62a",
   "metadata": {},
   "outputs": [
    {
     "name": "stdout",
     "output_type": "stream",
     "text": [
      "The total great-circle distance is 2772900.91 kilometers.\n"
     ]
    }
   ],
   "source": [
    "from math import radians, degrees, sin, cos, asin, acos, sqrt\n",
    "def great_circle(lon1, lat1, lon2, lat2):\n",
    "    lon1, lat1, lon2, lat2 = map(radians, [lon1, lat1, lon2, lat2])\n",
    "    return 6371 * (\n",
    "        acos(sin(lat1) * sin(lat2) + cos(lat1) * cos(lat2) * cos(lon1 - lon2))\n",
    "    )\n",
    "\n",
    "    # Haversine formula\n",
    "    d_lat = lat2_rad - lat1_rad\n",
    "    d_lon = lon2_rad - lon1_rad\n",
    "\n",
    "    a = sin(d_lat / 2) ** 2 + cos(lat1_rad) * cos(lat2_rad) * sin(d_lon / 2) ** 2\n",
    "    c = 2 * atan2(sqrt(a), sqrt(1 - a))\n",
    "\n",
    "    # Radius of Earth in kilometers\n",
    "    radius = 6371\n",
    "\n",
    "    # Calculate the distance\n",
    "    distance = radius * c\n",
    "    return distance\n",
    "\n",
    "\n",
    "\n",
    "# Lists to store latitude and longitude data\n",
    "latitude_list = df['Latitude'].tolist()\n",
    "longitude_list = df['Longitude'].tolist()\n",
    "\n",
    "# Calculate distances using the sequential latitude and longitude data\n",
    "total_distance = 0.0\n",
    "for i in range(len(latitude_list) - 1):\n",
    "    lat1 = latitude_list[i]\n",
    "    lon1 = longitude_list[i]\n",
    "    lat2 = latitude_list[i + 1]\n",
    "    lon2 = longitude_list[i + 1]\n",
    "\n",
    "    distance = great_circle(lat1, lon1, lat2, lon2)\n",
    "    total_distance += distance\n",
    "\n",
    "print(f\"The total great-circle distance is {total_distance:.2f} kilometers.\")"
   ]
  },
  {
   "cell_type": "code",
   "execution_count": null,
   "id": "cb22be35",
   "metadata": {},
   "outputs": [],
   "source": []
  },
  {
   "cell_type": "code",
   "execution_count": null,
   "id": "3c74aab8",
   "metadata": {},
   "outputs": [],
   "source": []
  }
 ],
 "metadata": {
  "kernelspec": {
   "display_name": "Python 3 (ipykernel)",
   "language": "python",
   "name": "python3"
  },
  "language_info": {
   "codemirror_mode": {
    "name": "ipython",
    "version": 3
   },
   "file_extension": ".py",
   "mimetype": "text/x-python",
   "name": "python",
   "nbconvert_exporter": "python",
   "pygments_lexer": "ipython3",
   "version": "3.10.9"
  }
 },
 "nbformat": 4,
 "nbformat_minor": 5
}
